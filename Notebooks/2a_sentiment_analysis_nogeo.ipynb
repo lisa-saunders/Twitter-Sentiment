{
 "cells": [
  {
   "cell_type": "markdown",
   "metadata": {},
   "source": [
    "# Twitter Sentiment Analysis without Geo Location"
   ]
  },
  {
   "cell_type": "markdown",
   "metadata": {},
   "source": [
    "General climate change sentiment of tweets in english, searching for the terms:\n",
    "\n",
    "- climate change\n",
    "- global warming\n",
    "- climate hoax\n",
    "\n",
    "Timeframe: 2021-04-30 to 2021-05-17\n",
    "\n",
    "Tweets: 108.293"
   ]
  },
  {
   "cell_type": "markdown",
   "metadata": {},
   "source": [
    "**Importing libraries**"
   ]
  },
  {
   "cell_type": "code",
   "execution_count": 1,
   "metadata": {},
   "outputs": [],
   "source": [
    "#Data Analysis\n",
    "import pandas as pd\n",
    "import numpy as np\n",
    "import matplotlib.pyplot as plt\n",
    "import seaborn as sns\n",
    "\n",
    "#Text Processing\n",
    "#nltk.download('punkt')\n",
    "#nltk.download('wordnet')\n",
    "import spacy\n",
    "import re\n",
    "import nltk\n",
    "from nltk.tokenize import TweetTokenizer\n",
    "from nltk import word_tokenize, sent_tokenize\n",
    "from nltk.corpus import stopwords\n",
    "from nltk.stem import LancasterStemmer, WordNetLemmatizer, PorterStemmer\n",
    "from wordcloud import WordCloud, STOPWORDS\n",
    "from textblob import TextBlob\n",
    "from nltk.sentiment import SentimentIntensityAnalyzer\n",
    "from vaderSentiment.vaderSentiment import SentimentIntensityAnalyzer\n",
    "from emoji import UNICODE_EMOJI"
   ]
  },
  {
   "cell_type": "markdown",
   "metadata": {},
   "source": [
    "**Importing data**"
   ]
  },
  {
   "cell_type": "code",
   "execution_count": 2,
   "metadata": {},
   "outputs": [],
   "source": [
    "df = pd.read_csv('../Data/tweets_nogeo.csv', index_col=0)"
   ]
  },
  {
   "cell_type": "code",
   "execution_count": 3,
   "metadata": {},
   "outputs": [
    {
     "data": {
      "text/html": [
       "<div>\n",
       "<style scoped>\n",
       "    .dataframe tbody tr th:only-of-type {\n",
       "        vertical-align: middle;\n",
       "    }\n",
       "\n",
       "    .dataframe tbody tr th {\n",
       "        vertical-align: top;\n",
       "    }\n",
       "\n",
       "    .dataframe thead th {\n",
       "        text-align: right;\n",
       "    }\n",
       "</style>\n",
       "<table border=\"1\" class=\"dataframe\">\n",
       "  <thead>\n",
       "    <tr style=\"text-align: right;\">\n",
       "      <th></th>\n",
       "      <th>id</th>\n",
       "      <th>date</th>\n",
       "      <th>content</th>\n",
       "      <th>coordinates</th>\n",
       "      <th>place</th>\n",
       "      <th>user</th>\n",
       "    </tr>\n",
       "  </thead>\n",
       "  <tbody>\n",
       "    <tr>\n",
       "      <th>0</th>\n",
       "      <td>1394326695260393473</td>\n",
       "      <td>2021-05-17 16:19:24+00:00</td>\n",
       "      <td>It was a beautiful visit to Coton Manor, in No...</td>\n",
       "      <td>NaN</td>\n",
       "      <td>NaN</td>\n",
       "      <td>{'username': 'fransherbourne', 'displayname': ...</td>\n",
       "    </tr>\n",
       "    <tr>\n",
       "      <th>1</th>\n",
       "      <td>1394326567174672391</td>\n",
       "      <td>2021-05-17 16:18:53+00:00</td>\n",
       "      <td>A 🇺🇸 U.S. map heating up from 1991 to 2020.\\n\\...</td>\n",
       "      <td>NaN</td>\n",
       "      <td>NaN</td>\n",
       "      <td>{'username': 'Jean_Is_fed_up', 'displayname': ...</td>\n",
       "    </tr>\n",
       "    <tr>\n",
       "      <th>2</th>\n",
       "      <td>1394326500804120581</td>\n",
       "      <td>2021-05-17 16:18:37+00:00</td>\n",
       "      <td>#HedgeAZ\\nN is for NEW hedges! \\nSo much to sa...</td>\n",
       "      <td>NaN</td>\n",
       "      <td>NaN</td>\n",
       "      <td>{'username': 'FavColour_Green', 'displayname':...</td>\n",
       "    </tr>\n",
       "  </tbody>\n",
       "</table>\n",
       "</div>"
      ],
      "text/plain": [
       "                    id                       date  \\\n",
       "0  1394326695260393473  2021-05-17 16:19:24+00:00   \n",
       "1  1394326567174672391  2021-05-17 16:18:53+00:00   \n",
       "2  1394326500804120581  2021-05-17 16:18:37+00:00   \n",
       "\n",
       "                                             content coordinates place  \\\n",
       "0  It was a beautiful visit to Coton Manor, in No...         NaN   NaN   \n",
       "1  A 🇺🇸 U.S. map heating up from 1991 to 2020.\\n\\...         NaN   NaN   \n",
       "2  #HedgeAZ\\nN is for NEW hedges! \\nSo much to sa...         NaN   NaN   \n",
       "\n",
       "                                                user  \n",
       "0  {'username': 'fransherbourne', 'displayname': ...  \n",
       "1  {'username': 'Jean_Is_fed_up', 'displayname': ...  \n",
       "2  {'username': 'FavColour_Green', 'displayname':...  "
      ]
     },
     "execution_count": 3,
     "metadata": {},
     "output_type": "execute_result"
    }
   ],
   "source": [
    "df.head(3)"
   ]
  },
  {
   "cell_type": "code",
   "execution_count": 4,
   "metadata": {},
   "outputs": [
    {
     "data": {
      "text/plain": [
       "108293"
      ]
     },
     "execution_count": 4,
     "metadata": {},
     "output_type": "execute_result"
    }
   ],
   "source": [
    "len(df)"
   ]
  },
  {
   "cell_type": "code",
   "execution_count": 5,
   "metadata": {},
   "outputs": [
    {
     "data": {
      "text/plain": [
       "'#HedgeAZ\\nN is for NEW hedges! \\nSo much to say– possibly another rollercoaster\\n\\nHedges offer us some really easy wins against the double threats of biodiversity &amp; climate change awfulness. So planting new hedges is quite rightly at the top of a number of agendas. (Including mine) https://t.co/OAgC3i9uBP'"
      ]
     },
     "execution_count": 5,
     "metadata": {},
     "output_type": "execute_result"
    }
   ],
   "source": [
    "df['content'][2]"
   ]
  },
  {
   "cell_type": "markdown",
   "metadata": {},
   "source": [
    "**Cleaning text**"
   ]
  },
  {
   "cell_type": "code",
   "execution_count": 6,
   "metadata": {},
   "outputs": [],
   "source": [
    "def tweet_preprocessing(tweet):\n",
    "    \n",
    "    '''\n",
    "    This functions cleans tweets from line breaks, URLs, Numbers,...\n",
    "    '''\n",
    "    \n",
    "    tweet = tweet.lower() #to lower case\n",
    "    tweet = tweet.replace('\\n', ' ') # remove line breaks\n",
    "    tweet = tweet.replace('\\@(\\w*)', '') # remove mentions\n",
    "    tweet = re.sub(r\"\\bhttps://t.co/\\w+\", '', tweet) # remove URLs\n",
    "    tweet = re.sub('\\w*\\d\\w*', '', tweet) # remove numbers\n",
    "    tweet = re.sub(r'\\#', '', tweet) # remove hashtags. To remove full hashtag: '\\#(\\w*)'\n",
    "    tweet = re.sub('\\w*\\d\\w*', '', tweet) # removes numbers?\n",
    "    tweet = re.sub(' +', ' ', tweet) # remove 1+ spaces\n",
    "\n",
    "    return tweet"
   ]
  },
  {
   "cell_type": "code",
   "execution_count": 7,
   "metadata": {},
   "outputs": [],
   "source": [
    "def strip_emoji(text):\n",
    "    \n",
    "    '''\n",
    "    This function removes any emojis\n",
    "    '''\n",
    "    \n",
    "    RE_EMOJI = re.compile('[\\U00010000-\\U0010ffff]', flags=re.UNICODE)\n",
    "    return RE_EMOJI.sub(r'', text)"
   ]
  },
  {
   "cell_type": "code",
   "execution_count": 8,
   "metadata": {},
   "outputs": [],
   "source": [
    "#applying functions to clean tweets\n",
    "df['content_clean'] = df['content'].apply(tweet_preprocessing)\n",
    "df['content_clean'] = df['content_clean'].apply(strip_emoji)"
   ]
  },
  {
   "cell_type": "code",
   "execution_count": 9,
   "metadata": {},
   "outputs": [],
   "source": [
    "#Tokanizing tweets\n",
    "tt = TweetTokenizer()\n",
    "df['content_clean'] = df['content_clean'].apply(tt.tokenize)"
   ]
  },
  {
   "cell_type": "code",
   "execution_count": 10,
   "metadata": {},
   "outputs": [],
   "source": [
    "#Cleaning tokens\n",
    "df['content_clean'] = df['content_clean'].apply(lambda x: \" \".join(x for x in x if re.match(r'[^\\W\\d]*$', x)))"
   ]
  },
  {
   "cell_type": "code",
   "execution_count": 11,
   "metadata": {},
   "outputs": [],
   "source": [
    "# Lemmatizing\n",
    "\n",
    "w_tokenizer = nltk.tokenize.WhitespaceTokenizer()\n",
    "lemmatizer = nltk.stem.WordNetLemmatizer()\n",
    "\n",
    "def lemmatize_text(text):\n",
    "    return [lemmatizer.lemmatize(w) for w in w_tokenizer.tokenize(text)]\n",
    "\n",
    "df['content_clean'] = df['content_clean'].apply(lemmatize_text)"
   ]
  },
  {
   "cell_type": "code",
   "execution_count": 12,
   "metadata": {},
   "outputs": [
    {
     "data": {
      "text/plain": [
       "['another',\n",
       " 'banger',\n",
       " 'from',\n",
       " 'freddie',\n",
       " 'deboer',\n",
       " 'trying',\n",
       " 'to',\n",
       " 'fight',\n",
       " 'educational',\n",
       " 'inequality',\n",
       " 'by',\n",
       " 'getting',\n",
       " 'rid',\n",
       " 'of',\n",
       " 'the',\n",
       " 'sat',\n",
       " 'is',\n",
       " 'like',\n",
       " 'trying',\n",
       " 'to',\n",
       " 'fight',\n",
       " 'climate',\n",
       " 'change',\n",
       " 'by',\n",
       " 'getting',\n",
       " 'rid',\n",
       " 'of',\n",
       " 'thermometer']"
      ]
     },
     "execution_count": 12,
     "metadata": {},
     "output_type": "execute_result"
    }
   ],
   "source": [
    "df['content_clean'][10]"
   ]
  },
  {
   "cell_type": "code",
   "execution_count": 13,
   "metadata": {},
   "outputs": [],
   "source": [
    "#Removing stop words\n",
    "stop = stopwords.words('english')\n",
    "df['content_clean'] = df['content_clean'].apply(lambda x: \" \".join(x for x in x if x not in stop))"
   ]
  },
  {
   "cell_type": "code",
   "execution_count": 14,
   "metadata": {},
   "outputs": [],
   "source": [
    "#Removing words that are negative but not negative in the climate setting\n",
    "to_remove = ['fight', 'fighting', 'crisis', 'threat', 'threaten', 'risk', ]\n",
    "\n",
    "df['content_clean'] = df['content_clean'].apply(lambda x: \" \".join(x for x in x.split() if x not in to_remove))"
   ]
  },
  {
   "cell_type": "code",
   "execution_count": 15,
   "metadata": {},
   "outputs": [
    {
     "data": {
      "text/plain": [
       "'another banger freddie deboer trying educational inequality getting rid sat like trying climate change getting rid thermometer'"
      ]
     },
     "execution_count": 15,
     "metadata": {},
     "output_type": "execute_result"
    }
   ],
   "source": [
    "df['content_clean'][10]"
   ]
  },
  {
   "cell_type": "code",
   "execution_count": 16,
   "metadata": {},
   "outputs": [],
   "source": [
    "#Removing words that are negative but not negative in the climate setting\n",
    "to_remove = ['fight', 'fighting', 'crisis']\n",
    "\n",
    "df['content_clean'] = df['content_clean'].apply(lambda x: \" \".join(x for x in x.split() if x not in to_remove))"
   ]
  },
  {
   "cell_type": "code",
   "execution_count": 17,
   "metadata": {},
   "outputs": [
    {
     "data": {
      "text/plain": [
       "'another banger freddie deboer trying educational inequality getting rid sat like trying climate change getting rid thermometer'"
      ]
     },
     "execution_count": 17,
     "metadata": {},
     "output_type": "execute_result"
    }
   ],
   "source": [
    "#Final cleaned tweet\n",
    "df['content_clean'][10]"
   ]
  },
  {
   "cell_type": "markdown",
   "metadata": {},
   "source": [
    "**Predicting Sentiment**"
   ]
  },
  {
   "cell_type": "code",
   "execution_count": 18,
   "metadata": {},
   "outputs": [],
   "source": [
    "#sentiment with vader\n",
    "analyzer = SentimentIntensityAnalyzer()\n",
    "\n",
    "scores = []\n",
    "compound_list = []\n",
    "positive_list = []\n",
    "negative_list = []\n",
    "neutral_list = []\n",
    "\n",
    "for i in range(df['content_clean'].shape[0]):\n",
    "    compound = analyzer.polarity_scores(df['content_clean'][i])[\"compound\"]\n",
    "    pos = analyzer.polarity_scores(df['content_clean'][i])[\"pos\"]\n",
    "    neu = analyzer.polarity_scores(df['content_clean'][i])[\"neu\"]\n",
    "    neg = analyzer.polarity_scores(df['content_clean'][i])[\"neg\"]\n",
    "    \n",
    "    scores.append({\"comp\": compound,\n",
    "                       \"positive\": pos,\n",
    "                       \"negative\": neg,\n",
    "                       \"neutral\": neu\n",
    "                  })\n",
    "    \n",
    "sentiments_score = pd.DataFrame.from_dict(scores)\n",
    "df = df.join(sentiments_score)"
   ]
  },
  {
   "cell_type": "code",
   "execution_count": 19,
   "metadata": {},
   "outputs": [
    {
     "data": {
      "text/html": [
       "<div>\n",
       "<style scoped>\n",
       "    .dataframe tbody tr th:only-of-type {\n",
       "        vertical-align: middle;\n",
       "    }\n",
       "\n",
       "    .dataframe tbody tr th {\n",
       "        vertical-align: top;\n",
       "    }\n",
       "\n",
       "    .dataframe thead th {\n",
       "        text-align: right;\n",
       "    }\n",
       "</style>\n",
       "<table border=\"1\" class=\"dataframe\">\n",
       "  <thead>\n",
       "    <tr style=\"text-align: right;\">\n",
       "      <th></th>\n",
       "      <th>id</th>\n",
       "      <th>date</th>\n",
       "      <th>content</th>\n",
       "      <th>coordinates</th>\n",
       "      <th>place</th>\n",
       "      <th>user</th>\n",
       "      <th>content_clean</th>\n",
       "      <th>comp</th>\n",
       "      <th>positive</th>\n",
       "      <th>negative</th>\n",
       "      <th>neutral</th>\n",
       "    </tr>\n",
       "  </thead>\n",
       "  <tbody>\n",
       "    <tr>\n",
       "      <th>0</th>\n",
       "      <td>1394326695260393473</td>\n",
       "      <td>2021-05-17 16:19:24+00:00</td>\n",
       "      <td>It was a beautiful visit to Coton Manor, in No...</td>\n",
       "      <td>NaN</td>\n",
       "      <td>NaN</td>\n",
       "      <td>{'username': 'fransherbourne', 'displayname': ...</td>\n",
       "      <td>wa beautiful visit coton manor northamptonshir...</td>\n",
       "      <td>0.6808</td>\n",
       "      <td>0.215</td>\n",
       "      <td>0.087</td>\n",
       "      <td>0.698</td>\n",
       "    </tr>\n",
       "    <tr>\n",
       "      <th>1</th>\n",
       "      <td>1394326567174672391</td>\n",
       "      <td>2021-05-17 16:18:53+00:00</td>\n",
       "      <td>A 🇺🇸 U.S. map heating up from 1991 to 2020.\\n\\...</td>\n",
       "      <td>NaN</td>\n",
       "      <td>NaN</td>\n",
       "      <td>{'username': 'Jean_Is_fed_up', 'displayname': ...</td>\n",
       "      <td>u map heating global warming real thing know c...</td>\n",
       "      <td>0.4767</td>\n",
       "      <td>0.227</td>\n",
       "      <td>0.000</td>\n",
       "      <td>0.773</td>\n",
       "    </tr>\n",
       "    <tr>\n",
       "      <th>2</th>\n",
       "      <td>1394326500804120581</td>\n",
       "      <td>2021-05-17 16:18:37+00:00</td>\n",
       "      <td>#HedgeAZ\\nN is for NEW hedges! \\nSo much to sa...</td>\n",
       "      <td>NaN</td>\n",
       "      <td>NaN</td>\n",
       "      <td>{'username': 'FavColour_Green', 'displayname':...</td>\n",
       "      <td>hedgeaz n new hedge much say possibly another ...</td>\n",
       "      <td>0.8724</td>\n",
       "      <td>0.296</td>\n",
       "      <td>0.000</td>\n",
       "      <td>0.704</td>\n",
       "    </tr>\n",
       "  </tbody>\n",
       "</table>\n",
       "</div>"
      ],
      "text/plain": [
       "                    id                       date  \\\n",
       "0  1394326695260393473  2021-05-17 16:19:24+00:00   \n",
       "1  1394326567174672391  2021-05-17 16:18:53+00:00   \n",
       "2  1394326500804120581  2021-05-17 16:18:37+00:00   \n",
       "\n",
       "                                             content coordinates place  \\\n",
       "0  It was a beautiful visit to Coton Manor, in No...         NaN   NaN   \n",
       "1  A 🇺🇸 U.S. map heating up from 1991 to 2020.\\n\\...         NaN   NaN   \n",
       "2  #HedgeAZ\\nN is for NEW hedges! \\nSo much to sa...         NaN   NaN   \n",
       "\n",
       "                                                user  \\\n",
       "0  {'username': 'fransherbourne', 'displayname': ...   \n",
       "1  {'username': 'Jean_Is_fed_up', 'displayname': ...   \n",
       "2  {'username': 'FavColour_Green', 'displayname':...   \n",
       "\n",
       "                                       content_clean    comp  positive  \\\n",
       "0  wa beautiful visit coton manor northamptonshir...  0.6808     0.215   \n",
       "1  u map heating global warming real thing know c...  0.4767     0.227   \n",
       "2  hedgeaz n new hedge much say possibly another ...  0.8724     0.296   \n",
       "\n",
       "   negative  neutral  \n",
       "0     0.087    0.698  \n",
       "1     0.000    0.773  \n",
       "2     0.000    0.704  "
      ]
     },
     "execution_count": 19,
     "metadata": {},
     "output_type": "execute_result"
    }
   ],
   "source": [
    "df.head(3)"
   ]
  },
  {
   "cell_type": "code",
   "execution_count": 20,
   "metadata": {},
   "outputs": [
    {
     "data": {
      "text/plain": [
       "<AxesSubplot:xlabel='positive'>"
      ]
     },
     "execution_count": 20,
     "metadata": {},
     "output_type": "execute_result"
    },
    {
     "data": {
      "image/png": "[encoded data removed]",
      "text/plain": [
       "<Figure size 1080x504 with 1 Axes>"
      ]
     },
     "metadata": {
      "needs_background": "light"
     },
     "output_type": "display_data"
    }
   ],
   "source": [
    "#distribution of polarity\n",
    "plt.figure(figsize=(15, 7))\n",
    "sns.boxplot(x = df['positive'])"
   ]
  },
  {
   "cell_type": "code",
   "execution_count": 21,
   "metadata": {},
   "outputs": [
    {
     "data": {
      "text/plain": [
       "<AxesSubplot:xlabel='negative'>"
      ]
     },
     "execution_count": 21,
     "metadata": {},
     "output_type": "execute_result"
    },
    {
     "data": {
      "image/png": "[encoded data removed]",
      "text/plain": [
       "<Figure size 1080x504 with 1 Axes>"
      ]
     },
     "metadata": {
      "needs_background": "light"
     },
     "output_type": "display_data"
    }
   ],
   "source": [
    "plt.figure(figsize=(15, 7))\n",
    "sns.boxplot(x = df['negative'])"
   ]
  },
  {
   "cell_type": "code",
   "execution_count": 22,
   "metadata": {},
   "outputs": [],
   "source": [
    "#Creating column with sentiment description\n",
    "df['sentiment'] = np.where(df['comp'] > 0.1, 'positive', (np.where(df['comp'] < -0.1, 'negative', 'neutral')))"
   ]
  },
  {
   "cell_type": "code",
   "execution_count": 23,
   "metadata": {},
   "outputs": [
    {
     "data": {
      "text/html": [
       "<div>\n",
       "<style scoped>\n",
       "    .dataframe tbody tr th:only-of-type {\n",
       "        vertical-align: middle;\n",
       "    }\n",
       "\n",
       "    .dataframe tbody tr th {\n",
       "        vertical-align: top;\n",
       "    }\n",
       "\n",
       "    .dataframe thead th {\n",
       "        text-align: right;\n",
       "    }\n",
       "</style>\n",
       "<table border=\"1\" class=\"dataframe\">\n",
       "  <thead>\n",
       "    <tr style=\"text-align: right;\">\n",
       "      <th></th>\n",
       "      <th>sentiment</th>\n",
       "      <th>count</th>\n",
       "    </tr>\n",
       "  </thead>\n",
       "  <tbody>\n",
       "    <tr>\n",
       "      <th>0</th>\n",
       "      <td>positive</td>\n",
       "      <td>54209</td>\n",
       "    </tr>\n",
       "    <tr>\n",
       "      <th>1</th>\n",
       "      <td>negative</td>\n",
       "      <td>30109</td>\n",
       "    </tr>\n",
       "    <tr>\n",
       "      <th>2</th>\n",
       "      <td>neutral</td>\n",
       "      <td>23975</td>\n",
       "    </tr>\n",
       "  </tbody>\n",
       "</table>\n",
       "</div>"
      ],
      "text/plain": [
       "  sentiment  count\n",
       "0  positive  54209\n",
       "1  negative  30109\n",
       "2   neutral  23975"
      ]
     },
     "execution_count": 23,
     "metadata": {},
     "output_type": "execute_result"
    }
   ],
   "source": [
    "#Getting number of values in each category\n",
    "sentiment_dist = df['sentiment'].value_counts().to_frame().reset_index().rename(columns={'index': 'sentiment', 'sentiment': 'count'})\n",
    "sentiment_dist"
   ]
  },
  {
   "cell_type": "code",
   "execution_count": 24,
   "metadata": {},
   "outputs": [
    {
     "data": {
      "text/plain": [
       "<AxesSubplot:xlabel='sentiment', ylabel='count'>"
      ]
     },
     "execution_count": 24,
     "metadata": {},
     "output_type": "execute_result"
    },
    {
     "data": {
      "image/png": "[encoded data removed]",
      "text/plain": [
       "<Figure size 432x288 with 1 Axes>"
      ]
     },
     "metadata": {
      "needs_background": "light"
     },
     "output_type": "display_data"
    }
   ],
   "source": [
    "sns.barplot(x=sentiment_dist['sentiment'], y=sentiment_dist['count'])"
   ]
  },
  {
   "cell_type": "code",
   "execution_count": 25,
   "metadata": {},
   "outputs": [
    {
     "data": {
      "text/html": [
       "<div>\n",
       "<style scoped>\n",
       "    .dataframe tbody tr th:only-of-type {\n",
       "        vertical-align: middle;\n",
       "    }\n",
       "\n",
       "    .dataframe tbody tr th {\n",
       "        vertical-align: top;\n",
       "    }\n",
       "\n",
       "    .dataframe thead th {\n",
       "        text-align: right;\n",
       "    }\n",
       "</style>\n",
       "<table border=\"1\" class=\"dataframe\">\n",
       "  <thead>\n",
       "    <tr style=\"text-align: right;\">\n",
       "      <th></th>\n",
       "      <th>id</th>\n",
       "      <th>date</th>\n",
       "      <th>content</th>\n",
       "      <th>coordinates</th>\n",
       "      <th>place</th>\n",
       "      <th>user</th>\n",
       "      <th>content_clean</th>\n",
       "      <th>comp</th>\n",
       "      <th>positive</th>\n",
       "      <th>negative</th>\n",
       "      <th>neutral</th>\n",
       "      <th>sentiment</th>\n",
       "    </tr>\n",
       "  </thead>\n",
       "  <tbody>\n",
       "    <tr>\n",
       "      <th>3</th>\n",
       "      <td>1394326465567543297</td>\n",
       "      <td>2021-05-17 16:18:29+00:00</td>\n",
       "      <td>By @amywestervelt: \"Big Oil Is Trying to Make ...</td>\n",
       "      <td>NaN</td>\n",
       "      <td>NaN</td>\n",
       "      <td>{'username': 'StopMoneyPipe', 'displayname': '...</td>\n",
       "      <td>big oil trying make climate change problem sol...</td>\n",
       "      <td>-0.2263</td>\n",
       "      <td>0.144</td>\n",
       "      <td>0.216</td>\n",
       "      <td>0.640</td>\n",
       "      <td>negative</td>\n",
       "    </tr>\n",
       "    <tr>\n",
       "      <th>6</th>\n",
       "      <td>1394326370692616193</td>\n",
       "      <td>2021-05-17 16:18:06+00:00</td>\n",
       "      <td>Climate change optimism should be dead. Show u...</td>\n",
       "      <td>NaN</td>\n",
       "      <td>NaN</td>\n",
       "      <td>{'username': 'Spencer_Berg_', 'displayname': '...</td>\n",
       "      <td>climate change optimism dead show blow bitch</td>\n",
       "      <td>-0.6808</td>\n",
       "      <td>0.224</td>\n",
       "      <td>0.519</td>\n",
       "      <td>0.256</td>\n",
       "      <td>negative</td>\n",
       "    </tr>\n",
       "    <tr>\n",
       "      <th>11</th>\n",
       "      <td>1394326159408594948</td>\n",
       "      <td>2021-05-17 16:17:16+00:00</td>\n",
       "      <td>Of all the stupidest wastes of money, #sacrame...</td>\n",
       "      <td>NaN</td>\n",
       "      <td>NaN</td>\n",
       "      <td>{'username': 'Soldier4_Truth', 'displayname': ...</td>\n",
       "      <td>stupidest waste money sacramentocapitolseconne...</td>\n",
       "      <td>-0.8442</td>\n",
       "      <td>0.000</td>\n",
       "      <td>0.394</td>\n",
       "      <td>0.606</td>\n",
       "      <td>negative</td>\n",
       "    </tr>\n",
       "    <tr>\n",
       "      <th>23</th>\n",
       "      <td>1394325580884099072</td>\n",
       "      <td>2021-05-17 16:14:58+00:00</td>\n",
       "      <td>The problem is that to a large % of people in ...</td>\n",
       "      <td>NaN</td>\n",
       "      <td>NaN</td>\n",
       "      <td>{'username': 'JunagarhMedia', 'displayname': '...</td>\n",
       "      <td>problem large people life bubble mean nothing ...</td>\n",
       "      <td>-0.6527</td>\n",
       "      <td>0.079</td>\n",
       "      <td>0.236</td>\n",
       "      <td>0.685</td>\n",
       "      <td>negative</td>\n",
       "    </tr>\n",
       "    <tr>\n",
       "      <th>28</th>\n",
       "      <td>1394325404643696646</td>\n",
       "      <td>2021-05-17 16:14:16+00:00</td>\n",
       "      <td>Wouldn’t it be cool if the money the governmen...</td>\n",
       "      <td>NaN</td>\n",
       "      <td>NaN</td>\n",
       "      <td>{'username': 'samantha_smith2', 'displayname':...</td>\n",
       "      <td>cool money government sends country commit war...</td>\n",
       "      <td>-0.1541</td>\n",
       "      <td>0.261</td>\n",
       "      <td>0.275</td>\n",
       "      <td>0.464</td>\n",
       "      <td>negative</td>\n",
       "    </tr>\n",
       "    <tr>\n",
       "      <th>33</th>\n",
       "      <td>1394325035171696642</td>\n",
       "      <td>2021-05-17 16:12:48+00:00</td>\n",
       "      <td>There's an effort to treat climate change as a...</td>\n",
       "      <td>NaN</td>\n",
       "      <td>NaN</td>\n",
       "      <td>{'username': 'DavidGriscom', 'displayname': 'D...</td>\n",
       "      <td>effort treat climate change purely scientific ...</td>\n",
       "      <td>-0.5523</td>\n",
       "      <td>0.202</td>\n",
       "      <td>0.366</td>\n",
       "      <td>0.432</td>\n",
       "      <td>negative</td>\n",
       "    </tr>\n",
       "    <tr>\n",
       "      <th>34</th>\n",
       "      <td>1394325001067630593</td>\n",
       "      <td>2021-05-17 16:12:40+00:00</td>\n",
       "      <td>ARE YOU TELLING ME FUCKING CLIMATE CHANGE IS W...</td>\n",
       "      <td>NaN</td>\n",
       "      <td>NaN</td>\n",
       "      <td>{'username': 'hellostarshine_', 'displayname':...</td>\n",
       "      <td>telling fucking climate change im itchy hurt</td>\n",
       "      <td>-0.6705</td>\n",
       "      <td>0.000</td>\n",
       "      <td>0.524</td>\n",
       "      <td>0.476</td>\n",
       "      <td>negative</td>\n",
       "    </tr>\n",
       "    <tr>\n",
       "      <th>37</th>\n",
       "      <td>1394324909979885573</td>\n",
       "      <td>2021-05-17 16:12:18+00:00</td>\n",
       "      <td>WAIT FROM THE FAR LEFT GLOBAL WARMING \"CONSPIR...</td>\n",
       "      <td>NaN</td>\n",
       "      <td>NaN</td>\n",
       "      <td>{'username': 'VeganFemanistic', 'displayname':...</td>\n",
       "      <td>wait far left global warming conspiracy</td>\n",
       "      <td>-0.4215</td>\n",
       "      <td>0.178</td>\n",
       "      <td>0.378</td>\n",
       "      <td>0.444</td>\n",
       "      <td>negative</td>\n",
       "    </tr>\n",
       "    <tr>\n",
       "      <th>41</th>\n",
       "      <td>1394324731860553728</td>\n",
       "      <td>2021-05-17 16:11:36+00:00</td>\n",
       "      <td>How climate change is making already bad aller...</td>\n",
       "      <td>NaN</td>\n",
       "      <td>NaN</td>\n",
       "      <td>{'username': 'ecobearwitness', 'displayname': ...</td>\n",
       "      <td>climate change making already bad allergy seas...</td>\n",
       "      <td>-0.7650</td>\n",
       "      <td>0.000</td>\n",
       "      <td>0.375</td>\n",
       "      <td>0.625</td>\n",
       "      <td>negative</td>\n",
       "    </tr>\n",
       "    <tr>\n",
       "      <th>44</th>\n",
       "      <td>1394324644333641731</td>\n",
       "      <td>2021-05-17 16:11:15+00:00</td>\n",
       "      <td>this was the photo that prompted widespread di...</td>\n",
       "      <td>NaN</td>\n",
       "      <td>NaN</td>\n",
       "      <td>{'username': 'atzrifle', 'displayname': 'risa'...</td>\n",
       "      <td>wa photo prompted widespread discourse global ...</td>\n",
       "      <td>-0.1779</td>\n",
       "      <td>0.214</td>\n",
       "      <td>0.198</td>\n",
       "      <td>0.588</td>\n",
       "      <td>negative</td>\n",
       "    </tr>\n",
       "  </tbody>\n",
       "</table>\n",
       "</div>"
      ],
      "text/plain": [
       "                     id                       date  \\\n",
       "3   1394326465567543297  2021-05-17 16:18:29+00:00   \n",
       "6   1394326370692616193  2021-05-17 16:18:06+00:00   \n",
       "11  1394326159408594948  2021-05-17 16:17:16+00:00   \n",
       "23  1394325580884099072  2021-05-17 16:14:58+00:00   \n",
       "28  1394325404643696646  2021-05-17 16:14:16+00:00   \n",
       "33  1394325035171696642  2021-05-17 16:12:48+00:00   \n",
       "34  1394325001067630593  2021-05-17 16:12:40+00:00   \n",
       "37  1394324909979885573  2021-05-17 16:12:18+00:00   \n",
       "41  1394324731860553728  2021-05-17 16:11:36+00:00   \n",
       "44  1394324644333641731  2021-05-17 16:11:15+00:00   \n",
       "\n",
       "                                              content coordinates place  \\\n",
       "3   By @amywestervelt: \"Big Oil Is Trying to Make ...         NaN   NaN   \n",
       "6   Climate change optimism should be dead. Show u...         NaN   NaN   \n",
       "11  Of all the stupidest wastes of money, #sacrame...         NaN   NaN   \n",
       "23  The problem is that to a large % of people in ...         NaN   NaN   \n",
       "28  Wouldn’t it be cool if the money the governmen...         NaN   NaN   \n",
       "33  There's an effort to treat climate change as a...         NaN   NaN   \n",
       "34  ARE YOU TELLING ME FUCKING CLIMATE CHANGE IS W...         NaN   NaN   \n",
       "37  WAIT FROM THE FAR LEFT GLOBAL WARMING \"CONSPIR...         NaN   NaN   \n",
       "41  How climate change is making already bad aller...         NaN   NaN   \n",
       "44  this was the photo that prompted widespread di...         NaN   NaN   \n",
       "\n",
       "                                                 user  \\\n",
       "3   {'username': 'StopMoneyPipe', 'displayname': '...   \n",
       "6   {'username': 'Spencer_Berg_', 'displayname': '...   \n",
       "11  {'username': 'Soldier4_Truth', 'displayname': ...   \n",
       "23  {'username': 'JunagarhMedia', 'displayname': '...   \n",
       "28  {'username': 'samantha_smith2', 'displayname':...   \n",
       "33  {'username': 'DavidGriscom', 'displayname': 'D...   \n",
       "34  {'username': 'hellostarshine_', 'displayname':...   \n",
       "37  {'username': 'VeganFemanistic', 'displayname':...   \n",
       "41  {'username': 'ecobearwitness', 'displayname': ...   \n",
       "44  {'username': 'atzrifle', 'displayname': 'risa'...   \n",
       "\n",
       "                                        content_clean    comp  positive  \\\n",
       "3   big oil trying make climate change problem sol... -0.2263     0.144   \n",
       "6        climate change optimism dead show blow bitch -0.6808     0.224   \n",
       "11  stupidest waste money sacramentocapitolseconne... -0.8442     0.000   \n",
       "23  problem large people life bubble mean nothing ... -0.6527     0.079   \n",
       "28  cool money government sends country commit war... -0.1541     0.261   \n",
       "33  effort treat climate change purely scientific ... -0.5523     0.202   \n",
       "34       telling fucking climate change im itchy hurt -0.6705     0.000   \n",
       "37            wait far left global warming conspiracy -0.4215     0.178   \n",
       "41  climate change making already bad allergy seas... -0.7650     0.000   \n",
       "44  wa photo prompted widespread discourse global ... -0.1779     0.214   \n",
       "\n",
       "    negative  neutral sentiment  \n",
       "3      0.216    0.640  negative  \n",
       "6      0.519    0.256  negative  \n",
       "11     0.394    0.606  negative  \n",
       "23     0.236    0.685  negative  \n",
       "28     0.275    0.464  negative  \n",
       "33     0.366    0.432  negative  \n",
       "34     0.524    0.476  negative  \n",
       "37     0.378    0.444  negative  \n",
       "41     0.375    0.625  negative  \n",
       "44     0.198    0.588  negative  "
      ]
     },
     "execution_count": 25,
     "metadata": {},
     "output_type": "execute_result"
    }
   ],
   "source": [
    "df[df['sentiment'] == 'negative'].head(10)"
   ]
  },
  {
   "cell_type": "code",
   "execution_count": 27,
   "metadata": {},
   "outputs": [],
   "source": [
    "#Saving data\n",
    "df.to_csv('../Data/sentiments_nogeo.csv')"
   ]
  }
 ],
 "metadata": {
  "kernelspec": {
   "display_name": "Python 3",
   "language": "python",
   "name": "python3"
  },
  "language_info": {
   "codemirror_mode": {
    "name": "ipython",
    "version": 3
   },
   "file_extension": ".py",
   "mimetype": "text/x-python",
   "name": "python",
   "nbconvert_exporter": "python",
   "pygments_lexer": "ipython3",
   "version": "3.8.5"
  }
 },
 "nbformat": 4,
 "nbformat_minor": 4
}
