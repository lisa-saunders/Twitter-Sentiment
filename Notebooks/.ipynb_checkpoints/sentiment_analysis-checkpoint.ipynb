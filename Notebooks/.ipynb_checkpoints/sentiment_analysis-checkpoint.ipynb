{
 "cells": [
  {
   "cell_type": "markdown",
   "metadata": {},
   "source": [
    "# Twitter Sentiment Analysis"
   ]
  },
  {
   "cell_type": "markdown",
   "metadata": {},
   "source": [
    "General climate change sentiment of tweets in english"
   ]
  },
  {
   "cell_type": "markdown",
   "metadata": {},
   "source": [
    "**Importing libraries**"
   ]
  },
  {
   "cell_type": "code",
   "execution_count": 1,
   "metadata": {},
   "outputs": [],
   "source": [
    "import pandas as pd\n",
    "import numpy as np\n",
    "import matplotlib.pyplot as plt\n",
    "import nltk\n",
    "from nltk import word_tokenize, sent_tokenize\n",
    "from nltk.corpus import stopwords\n",
    "from nltk.stem import LancasterStemmer, WordNetLemmatizer, PorterStemmer\n",
    "from wordcloud import WordCloud, STOPWORDS\n",
    "from textblob import TextBlob"
   ]
  },
  {
   "cell_type": "markdown",
   "metadata": {},
   "source": [
    "**Importing data**"
   ]
  },
  {
   "cell_type": "code",
   "execution_count": 2,
   "metadata": {},
   "outputs": [],
   "source": [
    "df = pd.read_csv('df_secondscrap_hashtags.csv', index_col=0)"
   ]
  },
  {
   "cell_type": "code",
   "execution_count": 3,
   "metadata": {},
   "outputs": [
    {
     "data": {
      "text/html": [
       "<div>\n",
       "<style scoped>\n",
       "    .dataframe tbody tr th:only-of-type {\n",
       "        vertical-align: middle;\n",
       "    }\n",
       "\n",
       "    .dataframe tbody tr th {\n",
       "        vertical-align: top;\n",
       "    }\n",
       "\n",
       "    .dataframe thead th {\n",
       "        text-align: right;\n",
       "    }\n",
       "</style>\n",
       "<table border=\"1\" class=\"dataframe\">\n",
       "  <thead>\n",
       "    <tr style=\"text-align: right;\">\n",
       "      <th></th>\n",
       "      <th>id</th>\n",
       "      <th>date</th>\n",
       "      <th>content</th>\n",
       "      <th>coordinates</th>\n",
       "      <th>place</th>\n",
       "      <th>user</th>\n",
       "    </tr>\n",
       "  </thead>\n",
       "  <tbody>\n",
       "    <tr>\n",
       "      <th>0</th>\n",
       "      <td>1393835446237552640</td>\n",
       "      <td>2021-05-16 07:47:21+00:00</td>\n",
       "      <td>2/2 it also runs on brand new tech called POA ...</td>\n",
       "      <td>NaN</td>\n",
       "      <td>NaN</td>\n",
       "      <td>{'username': 'jasric89', 'displayname': 'Jason...</td>\n",
       "    </tr>\n",
       "    <tr>\n",
       "      <th>1</th>\n",
       "      <td>1393835391271251971</td>\n",
       "      <td>2021-05-16 07:47:08+00:00</td>\n",
       "      <td>The food we eat is important. The people who m...</td>\n",
       "      <td>NaN</td>\n",
       "      <td>NaN</td>\n",
       "      <td>{'username': 'TatendaMurigo', 'displayname': '...</td>\n",
       "    </tr>\n",
       "    <tr>\n",
       "      <th>2</th>\n",
       "      <td>1393835307733327880</td>\n",
       "      <td>2021-05-16 07:46:48+00:00</td>\n",
       "      <td>To make #Trash and #Wastefree #Pakistan i have...</td>\n",
       "      <td>NaN</td>\n",
       "      <td>NaN</td>\n",
       "      <td>{'username': 'JunaidAjmal023', 'displayname': ...</td>\n",
       "    </tr>\n",
       "  </tbody>\n",
       "</table>\n",
       "</div>"
      ],
      "text/plain": [
       "                    id                       date  \\\n",
       "0  1393835446237552640  2021-05-16 07:47:21+00:00   \n",
       "1  1393835391271251971  2021-05-16 07:47:08+00:00   \n",
       "2  1393835307733327880  2021-05-16 07:46:48+00:00   \n",
       "\n",
       "                                             content coordinates place  \\\n",
       "0  2/2 it also runs on brand new tech called POA ...         NaN   NaN   \n",
       "1  The food we eat is important. The people who m...         NaN   NaN   \n",
       "2  To make #Trash and #Wastefree #Pakistan i have...         NaN   NaN   \n",
       "\n",
       "                                                user  \n",
       "0  {'username': 'jasric89', 'displayname': 'Jason...  \n",
       "1  {'username': 'TatendaMurigo', 'displayname': '...  \n",
       "2  {'username': 'JunaidAjmal023', 'displayname': ...  "
      ]
     },
     "execution_count": 3,
     "metadata": {},
     "output_type": "execute_result"
    }
   ],
   "source": [
    "df.head(3)"
   ]
  },
  {
   "cell_type": "code",
   "execution_count": 4,
   "metadata": {},
   "outputs": [
    {
     "data": {
      "text/plain": [
       "id              int64\n",
       "date           object\n",
       "content        object\n",
       "coordinates    object\n",
       "place          object\n",
       "user           object\n",
       "dtype: object"
      ]
     },
     "execution_count": 4,
     "metadata": {},
     "output_type": "execute_result"
    }
   ],
   "source": [
    "df.dtypes"
   ]
  },
  {
   "cell_type": "code",
   "execution_count": 5,
   "metadata": {},
   "outputs": [],
   "source": [
    "#Turning all the content into lowercase\n",
    "df['content'] = df['content'].apply(lambda x: \" \".join(x.lower() for x in x.split()))"
   ]
  },
  {
   "cell_type": "code",
   "execution_count": 6,
   "metadata": {},
   "outputs": [
    {
     "data": {
      "text/plain": [
       "'2/2 it also runs on brand new tech called poa proof of authority that uses was less energy than any other #crypto project out there because each node doesn’t have to check each other. https://t.co/0pz6hkjy5v #environment #greenenergy #mining #bitcoin @elonmusk'"
      ]
     },
     "execution_count": 6,
     "metadata": {},
     "output_type": "execute_result"
    }
   ],
   "source": [
    "df['content'][0]"
   ]
  },
  {
   "cell_type": "code",
   "execution_count": 7,
   "metadata": {},
   "outputs": [],
   "source": [
    "#Dealing with special characters\n",
    "stop = stopwords.words('english')\n",
    "df['content'] = df['content'].apply(lambda x: \" \".join(x for x in x.split() if x not in stop))"
   ]
  },
  {
   "cell_type": "code",
   "execution_count": 8,
   "metadata": {},
   "outputs": [
    {
     "data": {
      "text/plain": [
       "'2/2 also runs brand new tech called poa proof authority uses less energy #crypto project node doesn’t check other. https://t.co/0pz6hkjy5v #environment #greenenergy #mining #bitcoin @elonmusk'"
      ]
     },
     "execution_count": 8,
     "metadata": {},
     "output_type": "execute_result"
    }
   ],
   "source": [
    "df['content'][0]"
   ]
  },
  {
   "cell_type": "code",
   "execution_count": 9,
   "metadata": {},
   "outputs": [
    {
     "data": {
      "text/plain": [
       "'2/2 also run brand new tech call poa proof author use less energi #crypto project node doesn’t check other. https://t.co/0pz6hkjy5v #environ #greenenergi #mine #bitcoin @elonmusk'"
      ]
     },
     "execution_count": 9,
     "metadata": {},
     "output_type": "execute_result"
    }
   ],
   "source": [
    "st = PorterStemmer()\n",
    "df['content'] = df['content'].apply(lambda x: \" \".join([st.stem(word) for word in x.split()]))\n",
    "df['content'][0]"
   ]
  },
  {
   "cell_type": "code",
   "execution_count": 10,
   "metadata": {},
   "outputs": [],
   "source": [
    "#calculating sentiment score for this dataset\n",
    "\n",
    "def sentiment(x):\n",
    "    return TextBlob(x).sentiment\n",
    "\n",
    "df['sentiment_score'] = df['content'].apply(sentiment)"
   ]
  },
  {
   "cell_type": "code",
   "execution_count": 12,
   "metadata": {},
   "outputs": [],
   "source": [
    "df = pd.concat([df, pd.DataFrame(df['sentiment_score'].to_list(), columns=['polarity', 'subjectivity'])], axis=1)"
   ]
  },
  {
   "cell_type": "code",
   "execution_count": 15,
   "metadata": {},
   "outputs": [],
   "source": [
    "df.drop('sentiment_score', axis=1, inplace=True)"
   ]
  },
  {
   "cell_type": "code",
   "execution_count": 16,
   "metadata": {},
   "outputs": [
    {
     "data": {
      "text/html": [
       "<div>\n",
       "<style scoped>\n",
       "    .dataframe tbody tr th:only-of-type {\n",
       "        vertical-align: middle;\n",
       "    }\n",
       "\n",
       "    .dataframe tbody tr th {\n",
       "        vertical-align: top;\n",
       "    }\n",
       "\n",
       "    .dataframe thead th {\n",
       "        text-align: right;\n",
       "    }\n",
       "</style>\n",
       "<table border=\"1\" class=\"dataframe\">\n",
       "  <thead>\n",
       "    <tr style=\"text-align: right;\">\n",
       "      <th></th>\n",
       "      <th>id</th>\n",
       "      <th>date</th>\n",
       "      <th>content</th>\n",
       "      <th>coordinates</th>\n",
       "      <th>place</th>\n",
       "      <th>user</th>\n",
       "      <th>polarity</th>\n",
       "      <th>subjectivity</th>\n",
       "    </tr>\n",
       "  </thead>\n",
       "  <tbody>\n",
       "    <tr>\n",
       "      <th>0</th>\n",
       "      <td>1393835446237552640</td>\n",
       "      <td>2021-05-16 07:47:21+00:00</td>\n",
       "      <td>2/2 also run brand new tech call poa proof aut...</td>\n",
       "      <td>NaN</td>\n",
       "      <td>NaN</td>\n",
       "      <td>{'username': 'jasric89', 'displayname': 'Jason...</td>\n",
       "      <td>-0.051768</td>\n",
       "      <td>0.298737</td>\n",
       "    </tr>\n",
       "    <tr>\n",
       "      <th>1</th>\n",
       "      <td>1393835391271251971</td>\n",
       "      <td>2021-05-16 07:47:08+00:00</td>\n",
       "      <td>food eat important. peopl make food important....</td>\n",
       "      <td>NaN</td>\n",
       "      <td>NaN</td>\n",
       "      <td>{'username': 'TatendaMurigo', 'displayname': '...</td>\n",
       "      <td>0.266667</td>\n",
       "      <td>0.708333</td>\n",
       "    </tr>\n",
       "    <tr>\n",
       "      <th>2</th>\n",
       "      <td>1393835307733327880</td>\n",
       "      <td>2021-05-16 07:46:48+00:00</td>\n",
       "      <td>make #trash #wastefre #pakistan purpos idea cr...</td>\n",
       "      <td>NaN</td>\n",
       "      <td>NaN</td>\n",
       "      <td>{'username': 'JunaidAjmal023', 'displayname': ...</td>\n",
       "      <td>0.355556</td>\n",
       "      <td>0.533333</td>\n",
       "    </tr>\n",
       "    <tr>\n",
       "      <th>3</th>\n",
       "      <td>1393835290700259335</td>\n",
       "      <td>2021-05-16 07:46:44+00:00</td>\n",
       "      <td>research enabl us address press issu global co...</td>\n",
       "      <td>NaN</td>\n",
       "      <td>NaN</td>\n",
       "      <td>{'username': 'TatendaMurigo', 'displayname': '...</td>\n",
       "      <td>0.000000</td>\n",
       "      <td>0.000000</td>\n",
       "    </tr>\n",
       "    <tr>\n",
       "      <th>4</th>\n",
       "      <td>1393835274694709248</td>\n",
       "      <td>2021-05-16 07:46:40+00:00</td>\n",
       "      <td>hold #borisjohnson account lack lustr baffl op...</td>\n",
       "      <td>NaN</td>\n",
       "      <td>NaN</td>\n",
       "      <td>{'username': 'consofpolitics', 'displayname': ...</td>\n",
       "      <td>-0.500000</td>\n",
       "      <td>0.300000</td>\n",
       "    </tr>\n",
       "    <tr>\n",
       "      <th>...</th>\n",
       "      <td>...</td>\n",
       "      <td>...</td>\n",
       "      <td>...</td>\n",
       "      <td>...</td>\n",
       "      <td>...</td>\n",
       "      <td>...</td>\n",
       "      <td>...</td>\n",
       "      <td>...</td>\n",
       "    </tr>\n",
       "    <tr>\n",
       "      <th>9036</th>\n",
       "      <td>1392950043699601409</td>\n",
       "      <td>2021-05-13 21:09:04+00:00</td>\n",
       "      <td>https://t.co/kcfjtdqubo #environ #tesla #elonm...</td>\n",
       "      <td>NaN</td>\n",
       "      <td>NaN</td>\n",
       "      <td>{'username': 'BitcoinInfoVIP1', 'displayname':...</td>\n",
       "      <td>0.000000</td>\n",
       "      <td>0.000000</td>\n",
       "    </tr>\n",
       "    <tr>\n",
       "      <th>9037</th>\n",
       "      <td>1392950037244784647</td>\n",
       "      <td>2021-05-13 21:09:03+00:00</td>\n",
       "      <td>reviv ancient dates, negev pioneer plant seed ...</td>\n",
       "      <td>NaN</td>\n",
       "      <td>NaN</td>\n",
       "      <td>{'username': 'Israelwithlove', 'displayname': ...</td>\n",
       "      <td>0.000000</td>\n",
       "      <td>0.000000</td>\n",
       "    </tr>\n",
       "    <tr>\n",
       "      <th>9038</th>\n",
       "      <td>1392949977563938816</td>\n",
       "      <td>2021-05-13 21:08:49+00:00</td>\n",
       "      <td>build new home asset fight #climatechange—espe...</td>\n",
       "      <td>NaN</td>\n",
       "      <td>NaN</td>\n",
       "      <td>{'username': 'lisahiserodt', 'displayname': 'L...</td>\n",
       "      <td>0.168182</td>\n",
       "      <td>0.377273</td>\n",
       "    </tr>\n",
       "    <tr>\n",
       "      <th>9039</th>\n",
       "      <td>1392949971184283648</td>\n",
       "      <td>2021-05-13 21:08:47+00:00</td>\n",
       "      <td>touch much titl implies. decolon lithium boom ...</td>\n",
       "      <td>NaN</td>\n",
       "      <td>NaN</td>\n",
       "      <td>{'username': 'bluwndzdancing', 'displayname': ...</td>\n",
       "      <td>0.200000</td>\n",
       "      <td>0.200000</td>\n",
       "    </tr>\n",
       "    <tr>\n",
       "      <th>9040</th>\n",
       "      <td>1392949819287691265</td>\n",
       "      <td>2021-05-13 21:08:11+00:00</td>\n",
       "      <td>tweet it... climat denier demonstr you... proo...</td>\n",
       "      <td>NaN</td>\n",
       "      <td>NaN</td>\n",
       "      <td>{'username': 'GeraldKutney', 'displayname': '@...</td>\n",
       "      <td>0.000000</td>\n",
       "      <td>0.000000</td>\n",
       "    </tr>\n",
       "  </tbody>\n",
       "</table>\n",
       "<p>9041 rows × 8 columns</p>\n",
       "</div>"
      ],
      "text/plain": [
       "                       id                       date  \\\n",
       "0     1393835446237552640  2021-05-16 07:47:21+00:00   \n",
       "1     1393835391271251971  2021-05-16 07:47:08+00:00   \n",
       "2     1393835307733327880  2021-05-16 07:46:48+00:00   \n",
       "3     1393835290700259335  2021-05-16 07:46:44+00:00   \n",
       "4     1393835274694709248  2021-05-16 07:46:40+00:00   \n",
       "...                   ...                        ...   \n",
       "9036  1392950043699601409  2021-05-13 21:09:04+00:00   \n",
       "9037  1392950037244784647  2021-05-13 21:09:03+00:00   \n",
       "9038  1392949977563938816  2021-05-13 21:08:49+00:00   \n",
       "9039  1392949971184283648  2021-05-13 21:08:47+00:00   \n",
       "9040  1392949819287691265  2021-05-13 21:08:11+00:00   \n",
       "\n",
       "                                                content coordinates place  \\\n",
       "0     2/2 also run brand new tech call poa proof aut...         NaN   NaN   \n",
       "1     food eat important. peopl make food important....         NaN   NaN   \n",
       "2     make #trash #wastefre #pakistan purpos idea cr...         NaN   NaN   \n",
       "3     research enabl us address press issu global co...         NaN   NaN   \n",
       "4     hold #borisjohnson account lack lustr baffl op...         NaN   NaN   \n",
       "...                                                 ...         ...   ...   \n",
       "9036  https://t.co/kcfjtdqubo #environ #tesla #elonm...         NaN   NaN   \n",
       "9037  reviv ancient dates, negev pioneer plant seed ...         NaN   NaN   \n",
       "9038  build new home asset fight #climatechange—espe...         NaN   NaN   \n",
       "9039  touch much titl implies. decolon lithium boom ...         NaN   NaN   \n",
       "9040  tweet it... climat denier demonstr you... proo...         NaN   NaN   \n",
       "\n",
       "                                                   user  polarity  \\\n",
       "0     {'username': 'jasric89', 'displayname': 'Jason... -0.051768   \n",
       "1     {'username': 'TatendaMurigo', 'displayname': '...  0.266667   \n",
       "2     {'username': 'JunaidAjmal023', 'displayname': ...  0.355556   \n",
       "3     {'username': 'TatendaMurigo', 'displayname': '...  0.000000   \n",
       "4     {'username': 'consofpolitics', 'displayname': ... -0.500000   \n",
       "...                                                 ...       ...   \n",
       "9036  {'username': 'BitcoinInfoVIP1', 'displayname':...  0.000000   \n",
       "9037  {'username': 'Israelwithlove', 'displayname': ...  0.000000   \n",
       "9038  {'username': 'lisahiserodt', 'displayname': 'L...  0.168182   \n",
       "9039  {'username': 'bluwndzdancing', 'displayname': ...  0.200000   \n",
       "9040  {'username': 'GeraldKutney', 'displayname': '@...  0.000000   \n",
       "\n",
       "      subjectivity  \n",
       "0         0.298737  \n",
       "1         0.708333  \n",
       "2         0.533333  \n",
       "3         0.000000  \n",
       "4         0.300000  \n",
       "...            ...  \n",
       "9036      0.000000  \n",
       "9037      0.000000  \n",
       "9038      0.377273  \n",
       "9039      0.200000  \n",
       "9040      0.000000  \n",
       "\n",
       "[9041 rows x 8 columns]"
      ]
     },
     "execution_count": 16,
     "metadata": {},
     "output_type": "execute_result"
    }
   ],
   "source": [
    "df"
   ]
  },
  {
   "cell_type": "code",
   "execution_count": 17,
   "metadata": {},
   "outputs": [
    {
     "data": {
      "text/plain": [
       "9040    tweet it... climat denier demonstr you... proo...\n",
       "Name: content, dtype: object"
      ]
     },
     "execution_count": 17,
     "metadata": {},
     "output_type": "execute_result"
    }
   ],
   "source": []
  },
  {
   "cell_type": "code",
   "execution_count": null,
   "metadata": {},
   "outputs": [],
   "source": []
  }
 ],
 "metadata": {
  "kernelspec": {
   "display_name": "Python 3",
   "language": "python",
   "name": "python3"
  },
  "language_info": {
   "codemirror_mode": {
    "name": "ipython",
    "version": 3
   },
   "file_extension": ".py",
   "mimetype": "text/x-python",
   "name": "python",
   "nbconvert_exporter": "python",
   "pygments_lexer": "ipython3",
   "version": "3.8.5"
  }
 },
 "nbformat": 4,
 "nbformat_minor": 4
}
