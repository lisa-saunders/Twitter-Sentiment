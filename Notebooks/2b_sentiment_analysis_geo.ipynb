{
 "cells": [
  {
   "cell_type": "markdown",
   "metadata": {},
   "source": [
    "# Twitter Sentiment Analysis with Geo Location"
   ]
  },
  {
   "cell_type": "markdown",
   "metadata": {},
   "source": [
    "General climate change sentiment of tweets in english, searching for the terms:\n",
    "\n",
    "- climate change\n",
    "- global warming\n",
    "- climate hoax\n",
    "\n",
    "Timeframe:"
   ]
  },
  {
   "cell_type": "markdown",
   "metadata": {},
   "source": [
    "**Importing libraries**"
   ]
  },
  {
   "cell_type": "code",
   "execution_count": 2,
   "metadata": {},
   "outputs": [],
   "source": [
    "#Data Analysis\n",
    "import pandas as pd\n",
    "import numpy as np\n",
    "import matplotlib.pyplot as plt\n",
    "import seaborn as sns\n",
    "\n",
    "#Text Processing\n",
    "#nltk.download('punkt')\n",
    "import re\n",
    "import nltk\n",
    "from nltk.tokenize import TweetTokenizer\n",
    "from nltk import word_tokenize, sent_tokenize\n",
    "from nltk.corpus import stopwords\n",
    "from nltk.stem import LancasterStemmer, WordNetLemmatizer, PorterStemmer\n",
    "from wordcloud import WordCloud, STOPWORDS\n",
    "from textblob import TextBlob\n",
    "from nltk.sentiment import SentimentIntensityAnalyzer\n",
    "from vaderSentiment.vaderSentiment import SentimentIntensityAnalyzer\n",
    "from emoji import UNICODE_EMOJI"
   ]
  },
  {
   "cell_type": "markdown",
   "metadata": {},
   "source": [
    "**Importing data**"
   ]
  },
  {
   "cell_type": "code",
   "execution_count": 3,
   "metadata": {},
   "outputs": [],
   "source": [
    "df = pd.read_csv('../Data/tweets_geo.csv', index_col=0)"
   ]
  },
  {
   "cell_type": "code",
   "execution_count": 9,
   "metadata": {},
   "outputs": [
    {
     "data": {
      "text/html": [
       "<div>\n",
       "<style scoped>\n",
       "    .dataframe tbody tr th:only-of-type {\n",
       "        vertical-align: middle;\n",
       "    }\n",
       "\n",
       "    .dataframe tbody tr th {\n",
       "        vertical-align: top;\n",
       "    }\n",
       "\n",
       "    .dataframe thead th {\n",
       "        text-align: right;\n",
       "    }\n",
       "</style>\n",
       "<table border=\"1\" class=\"dataframe\">\n",
       "  <thead>\n",
       "    <tr style=\"text-align: right;\">\n",
       "      <th></th>\n",
       "      <th>id</th>\n",
       "      <th>date</th>\n",
       "      <th>content</th>\n",
       "      <th>coordinates</th>\n",
       "      <th>place</th>\n",
       "      <th>user</th>\n",
       "      <th>content_clean</th>\n",
       "    </tr>\n",
       "  </thead>\n",
       "  <tbody>\n",
       "    <tr>\n",
       "      <th>0</th>\n",
       "      <td>1394326695260393473</td>\n",
       "      <td>2021-05-17 16:19:24+00:00</td>\n",
       "      <td>It was a beautiful visit to Coton Manor, in No...</td>\n",
       "      <td>NaN</td>\n",
       "      <td>NaN</td>\n",
       "      <td>{'username': 'fransherbourne', 'displayname': ...</td>\n",
       "      <td>it was a beautiful visit to coton manor in nor...</td>\n",
       "    </tr>\n",
       "    <tr>\n",
       "      <th>1</th>\n",
       "      <td>1394326567174672391</td>\n",
       "      <td>2021-05-17 16:18:53+00:00</td>\n",
       "      <td>A 🇺🇸 U.S. map heating up from 1991 to 2020.\\n\\...</td>\n",
       "      <td>NaN</td>\n",
       "      <td>NaN</td>\n",
       "      <td>{'username': 'Jean_Is_fed_up', 'displayname': ...</td>\n",
       "      <td>a  us map heating up from 1991 to 2020  global...</td>\n",
       "    </tr>\n",
       "    <tr>\n",
       "      <th>2</th>\n",
       "      <td>1394326500804120581</td>\n",
       "      <td>2021-05-17 16:18:37+00:00</td>\n",
       "      <td>#HedgeAZ\\nN is for NEW hedges! \\nSo much to sa...</td>\n",
       "      <td>NaN</td>\n",
       "      <td>NaN</td>\n",
       "      <td>{'username': 'FavColour_Green', 'displayname':...</td>\n",
       "      <td>n is for new hedges so much to say– possibly ...</td>\n",
       "    </tr>\n",
       "  </tbody>\n",
       "</table>\n",
       "</div>"
      ],
      "text/plain": [
       "                    id                       date  \\\n",
       "0  1394326695260393473  2021-05-17 16:19:24+00:00   \n",
       "1  1394326567174672391  2021-05-17 16:18:53+00:00   \n",
       "2  1394326500804120581  2021-05-17 16:18:37+00:00   \n",
       "\n",
       "                                             content coordinates place  \\\n",
       "0  It was a beautiful visit to Coton Manor, in No...         NaN   NaN   \n",
       "1  A 🇺🇸 U.S. map heating up from 1991 to 2020.\\n\\...         NaN   NaN   \n",
       "2  #HedgeAZ\\nN is for NEW hedges! \\nSo much to sa...         NaN   NaN   \n",
       "\n",
       "                                                user  \\\n",
       "0  {'username': 'fransherbourne', 'displayname': ...   \n",
       "1  {'username': 'Jean_Is_fed_up', 'displayname': ...   \n",
       "2  {'username': 'FavColour_Green', 'displayname':...   \n",
       "\n",
       "                                       content_clean  \n",
       "0  it was a beautiful visit to coton manor in nor...  \n",
       "1  a  us map heating up from 1991 to 2020  global...  \n",
       "2   n is for new hedges so much to say– possibly ...  "
      ]
     },
     "execution_count": 9,
     "metadata": {},
     "output_type": "execute_result"
    }
   ],
   "source": [
    "df.head(3)"
   ]
  },
  {
   "cell_type": "code",
   "execution_count": 6,
   "metadata": {},
   "outputs": [
    {
     "data": {
      "text/plain": [
       "108293"
      ]
     },
     "execution_count": 6,
     "metadata": {},
     "output_type": "execute_result"
    }
   ],
   "source": [
    "len(df)"
   ]
  },
  {
   "cell_type": "code",
   "execution_count": 7,
   "metadata": {},
   "outputs": [
    {
     "data": {
      "text/plain": [
       "'A 🇺🇸 U.S. map heating up from 1991 to 2020.\\n\\n🌎 Global warming 🔥 is a real thing, we know that. \\n\\nIt’s why we fight 🥊 for change.\\n\\n3️⃣ words 👁 don’t like! “The New Normal” 🤬\\n\\nhttps://t.co/AWVXeF85jp\\n\\n#DemVoice1 #wtpEARTH #wtpBLUE #wtpEDU #ONEV1'"
      ]
     },
     "execution_count": 7,
     "metadata": {},
     "output_type": "execute_result"
    }
   ],
   "source": [
    "df['content'][1]"
   ]
  },
  {
   "cell_type": "markdown",
   "metadata": {},
   "source": [
    "**Cleaning text**"
   ]
  },
  {
   "cell_type": "code",
   "execution_count": 4,
   "metadata": {},
   "outputs": [],
   "source": [
    "#Turn all words into lowercase\n",
    "df['content_clean'] = df['content'].apply(lambda x: \" \".join(x.lower() for x in x.split()))"
   ]
  },
  {
   "cell_type": "code",
   "execution_count": 12,
   "metadata": {},
   "outputs": [],
   "source": [
    "#Clean tweets of special characters (hashtags, mentions, etc.)\n",
    "def clean_tweets (data, arg):\n",
    "    x = re.compile(r'{}'.format(arg))\n",
    "    return x.sub(r'', data)\n",
    "\n",
    "to_clean = ['https?://\\S+|www\\.\\S+', '<.*?>', '\\#(\\w*)', '\\@(\\w*)', '[\\.\\,\\!\\?\\:\\;\\-\\=]', '[^\\W\\d]*$']\n",
    "\n",
    "for i in to_clean:\n",
    "    df['content_clean'] = df['content_clean'].apply(clean_tweets, arg= i)"
   ]
  },
  {
   "cell_type": "code",
   "execution_count": 8,
   "metadata": {},
   "outputs": [],
   "source": [
    "def strip_emoji(text):\n",
    "    RE_EMOJI = re.compile('[\\U00010000-\\U0010ffff]', flags=re.UNICODE)\n",
    "    return RE_EMOJI.sub(r'', text)\n",
    "\n",
    "df['content_clean'] = df['content_clean'].apply(strip_emoji)"
   ]
  },
  {
   "cell_type": "code",
   "execution_count": 10,
   "metadata": {},
   "outputs": [],
   "source": [
    "#Removing linebreaks and blankspaces\n",
    "blanks = ['\\s', ' +']\n",
    "\n",
    "def remove_blankspaces(data, arg):\n",
    "    x = re.compile(r'{}'.format(arg))\n",
    "    return x.sub(r' ', data)\n",
    "\n",
    "for i in blanks:\n",
    "    df['content_clean'] = df['content_clean'].apply(remove_blankspaces, arg=i)"
   ]
  },
  {
   "cell_type": "code",
   "execution_count": 14,
   "metadata": {},
   "outputs": [
    {
     "data": {
      "text/plain": [
       "'a us map heating up from 1991 to 2020 global warming is a real thing we know that it’s why we fight for change 3️⃣ words don’t like “the new normal” '"
      ]
     },
     "execution_count": 14,
     "metadata": {},
     "output_type": "execute_result"
    }
   ],
   "source": [
    "#cleaned tweet\n",
    "df['content_clean'][1]"
   ]
  },
  {
   "cell_type": "code",
   "execution_count": 8,
   "metadata": {},
   "outputs": [
    {
     "data": {
      "text/html": [
       "<div>\n",
       "<style scoped>\n",
       "    .dataframe tbody tr th:only-of-type {\n",
       "        vertical-align: middle;\n",
       "    }\n",
       "\n",
       "    .dataframe tbody tr th {\n",
       "        vertical-align: top;\n",
       "    }\n",
       "\n",
       "    .dataframe thead th {\n",
       "        text-align: right;\n",
       "    }\n",
       "</style>\n",
       "<table border=\"1\" class=\"dataframe\">\n",
       "  <thead>\n",
       "    <tr style=\"text-align: right;\">\n",
       "      <th></th>\n",
       "      <th>id</th>\n",
       "      <th>date</th>\n",
       "      <th>content</th>\n",
       "      <th>coordinates</th>\n",
       "      <th>place</th>\n",
       "      <th>user</th>\n",
       "      <th>content_clean</th>\n",
       "    </tr>\n",
       "  </thead>\n",
       "  <tbody>\n",
       "    <tr>\n",
       "      <th>0</th>\n",
       "      <td>1394326695260393473</td>\n",
       "      <td>2021-05-17 16:19:24+00:00</td>\n",
       "      <td>It was a beautiful visit to Coton Manor, in No...</td>\n",
       "      <td>NaN</td>\n",
       "      <td>NaN</td>\n",
       "      <td>{'username': 'fransherbourne', 'displayname': ...</td>\n",
       "      <td>It was a beautiful visit to Coton Manor, in No...</td>\n",
       "    </tr>\n",
       "    <tr>\n",
       "      <th>1</th>\n",
       "      <td>1394326567174672391</td>\n",
       "      <td>2021-05-17 16:18:53+00:00</td>\n",
       "      <td>A 🇺🇸 U.S. map heating up from 1991 to 2020.\\n\\...</td>\n",
       "      <td>NaN</td>\n",
       "      <td>NaN</td>\n",
       "      <td>{'username': 'Jean_Is_fed_up', 'displayname': ...</td>\n",
       "      <td>A 🇺🇸 U.S. map heating up from 1991 to 2020.\\n\\...</td>\n",
       "    </tr>\n",
       "    <tr>\n",
       "      <th>2</th>\n",
       "      <td>1394326500804120581</td>\n",
       "      <td>2021-05-17 16:18:37+00:00</td>\n",
       "      <td>#HedgeAZ\\nN is for NEW hedges! \\nSo much to sa...</td>\n",
       "      <td>NaN</td>\n",
       "      <td>NaN</td>\n",
       "      <td>{'username': 'FavColour_Green', 'displayname':...</td>\n",
       "      <td>#HedgeAZ\\nN is for NEW hedges! \\nSo much to sa...</td>\n",
       "    </tr>\n",
       "  </tbody>\n",
       "</table>\n",
       "</div>"
      ],
      "text/plain": [
       "                    id                       date  \\\n",
       "0  1394326695260393473  2021-05-17 16:19:24+00:00   \n",
       "1  1394326567174672391  2021-05-17 16:18:53+00:00   \n",
       "2  1394326500804120581  2021-05-17 16:18:37+00:00   \n",
       "\n",
       "                                             content coordinates place  \\\n",
       "0  It was a beautiful visit to Coton Manor, in No...         NaN   NaN   \n",
       "1  A 🇺🇸 U.S. map heating up from 1991 to 2020.\\n\\...         NaN   NaN   \n",
       "2  #HedgeAZ\\nN is for NEW hedges! \\nSo much to sa...         NaN   NaN   \n",
       "\n",
       "                                                user  \\\n",
       "0  {'username': 'fransherbourne', 'displayname': ...   \n",
       "1  {'username': 'Jean_Is_fed_up', 'displayname': ...   \n",
       "2  {'username': 'FavColour_Green', 'displayname':...   \n",
       "\n",
       "                                       content_clean  \n",
       "0  It was a beautiful visit to Coton Manor, in No...  \n",
       "1  A 🇺🇸 U.S. map heating up from 1991 to 2020.\\n\\...  \n",
       "2  #HedgeAZ\\nN is for NEW hedges! \\nSo much to sa...  "
      ]
     },
     "execution_count": 8,
     "metadata": {},
     "output_type": "execute_result"
    }
   ],
   "source": [
    "df.head(3)"
   ]
  },
  {
   "cell_type": "code",
   "execution_count": 25,
   "metadata": {},
   "outputs": [],
   "source": [
    "#Cleaning tokens\n",
    "df['content_clean'] = df['content_clean'].apply(lambda x: \" \".join(x for x in x if re.match(r'[^\\W\\d]*$', x)))"
   ]
  },
  {
   "cell_type": "code",
   "execution_count": 29,
   "metadata": {},
   "outputs": [],
   "source": [
    "#Removing stop words\n",
    "stop = stopwords.words('english')\n",
    "df['content_clean'] = df['content_clean'].apply(lambda x: \" \".join(x for x in x.split() if x not in stop))"
   ]
  },
  {
   "cell_type": "code",
   "execution_count": 30,
   "metadata": {},
   "outputs": [
    {
     "data": {
      "text/plain": [
       "'us map heating global warming real thing know fight change words like new normal'"
      ]
     },
     "execution_count": 30,
     "metadata": {},
     "output_type": "execute_result"
    }
   ],
   "source": [
    "df['content_clean'][1]"
   ]
  },
  {
   "cell_type": "code",
   "execution_count": 15,
   "metadata": {},
   "outputs": [],
   "source": [
    "#Tokanizing tweets\n",
    "tt = TweetTokenizer()\n",
    "df['content_clean'] = df['content_clean'].apply(tt.tokenize)"
   ]
  },
  {
   "cell_type": "markdown",
   "metadata": {},
   "source": [
    "**Predicting Sentiment**"
   ]
  },
  {
   "cell_type": "code",
   "execution_count": 32,
   "metadata": {},
   "outputs": [],
   "source": [
    "#sentiment with vader\n",
    "analyzer = SentimentIntensityAnalyzer()\n",
    "\n",
    "scores = []\n",
    "compound_list = []\n",
    "positive_list = []\n",
    "negative_list = []\n",
    "neutral_list = []\n",
    "\n",
    "for i in range(df['content_clean'].shape[0]):\n",
    "    compound = analyzer.polarity_scores(df['content_clean'][i])[\"compound\"]\n",
    "    pos = analyzer.polarity_scores(df['content_clean'][i])[\"pos\"]\n",
    "    neu = analyzer.polarity_scores(df['content_clean'][i])[\"neu\"]\n",
    "    neg = analyzer.polarity_scores(df['content_clean'][i])[\"neg\"]\n",
    "    \n",
    "    scores.append({\"comp\": compound,\n",
    "                       \"positive\": pos,\n",
    "                       \"negative\": neg,\n",
    "                       \"neutral\": neu\n",
    "                  })\n",
    "    \n",
    "sentiments_score = pd.DataFrame.from_dict(scores)\n",
    "df = df.join(sentiments_score)"
   ]
  },
  {
   "cell_type": "code",
   "execution_count": 33,
   "metadata": {},
   "outputs": [
    {
     "data": {
      "text/html": [
       "<div>\n",
       "<style scoped>\n",
       "    .dataframe tbody tr th:only-of-type {\n",
       "        vertical-align: middle;\n",
       "    }\n",
       "\n",
       "    .dataframe tbody tr th {\n",
       "        vertical-align: top;\n",
       "    }\n",
       "\n",
       "    .dataframe thead th {\n",
       "        text-align: right;\n",
       "    }\n",
       "</style>\n",
       "<table border=\"1\" class=\"dataframe\">\n",
       "  <thead>\n",
       "    <tr style=\"text-align: right;\">\n",
       "      <th></th>\n",
       "      <th>id</th>\n",
       "      <th>date</th>\n",
       "      <th>content</th>\n",
       "      <th>coordinates</th>\n",
       "      <th>place</th>\n",
       "      <th>user</th>\n",
       "      <th>content_clean</th>\n",
       "      <th>comp</th>\n",
       "      <th>positive</th>\n",
       "      <th>negative</th>\n",
       "      <th>neutral</th>\n",
       "    </tr>\n",
       "  </thead>\n",
       "  <tbody>\n",
       "    <tr>\n",
       "      <th>0</th>\n",
       "      <td>1394326695260393473</td>\n",
       "      <td>2021-05-17 16:19:24+00:00</td>\n",
       "      <td>It was a beautiful visit to Coton Manor, in No...</td>\n",
       "      <td>NaN</td>\n",
       "      <td>NaN</td>\n",
       "      <td>{'username': 'fransherbourne', 'displayname': ...</td>\n",
       "      <td>beautiful visit coton manor northamptonshire y...</td>\n",
       "      <td>0.6808</td>\n",
       "      <td>0.228</td>\n",
       "      <td>0.092</td>\n",
       "      <td>0.680</td>\n",
       "    </tr>\n",
       "    <tr>\n",
       "      <th>1</th>\n",
       "      <td>1394326567174672391</td>\n",
       "      <td>2021-05-17 16:18:53+00:00</td>\n",
       "      <td>A 🇺🇸 U.S. map heating up from 1991 to 2020.\\n\\...</td>\n",
       "      <td>NaN</td>\n",
       "      <td>NaN</td>\n",
       "      <td>{'username': 'Jean_Is_fed_up', 'displayname': ...</td>\n",
       "      <td>us map heating global warming real thing know ...</td>\n",
       "      <td>0.1280</td>\n",
       "      <td>0.232</td>\n",
       "      <td>0.147</td>\n",
       "      <td>0.621</td>\n",
       "    </tr>\n",
       "    <tr>\n",
       "      <th>2</th>\n",
       "      <td>1394326500804120581</td>\n",
       "      <td>2021-05-17 16:18:37+00:00</td>\n",
       "      <td>#HedgeAZ\\nN is for NEW hedges! \\nSo much to sa...</td>\n",
       "      <td>NaN</td>\n",
       "      <td>NaN</td>\n",
       "      <td>{'username': 'FavColour_Green', 'displayname':...</td>\n",
       "      <td>n new hedges much say possibly another rollerc...</td>\n",
       "      <td>0.7914</td>\n",
       "      <td>0.273</td>\n",
       "      <td>0.071</td>\n",
       "      <td>0.656</td>\n",
       "    </tr>\n",
       "  </tbody>\n",
       "</table>\n",
       "</div>"
      ],
      "text/plain": [
       "                    id                       date  \\\n",
       "0  1394326695260393473  2021-05-17 16:19:24+00:00   \n",
       "1  1394326567174672391  2021-05-17 16:18:53+00:00   \n",
       "2  1394326500804120581  2021-05-17 16:18:37+00:00   \n",
       "\n",
       "                                             content coordinates place  \\\n",
       "0  It was a beautiful visit to Coton Manor, in No...         NaN   NaN   \n",
       "1  A 🇺🇸 U.S. map heating up from 1991 to 2020.\\n\\...         NaN   NaN   \n",
       "2  #HedgeAZ\\nN is for NEW hedges! \\nSo much to sa...         NaN   NaN   \n",
       "\n",
       "                                                user  \\\n",
       "0  {'username': 'fransherbourne', 'displayname': ...   \n",
       "1  {'username': 'Jean_Is_fed_up', 'displayname': ...   \n",
       "2  {'username': 'FavColour_Green', 'displayname':...   \n",
       "\n",
       "                                       content_clean    comp  positive  \\\n",
       "0  beautiful visit coton manor northamptonshire y...  0.6808     0.228   \n",
       "1  us map heating global warming real thing know ...  0.1280     0.232   \n",
       "2  n new hedges much say possibly another rollerc...  0.7914     0.273   \n",
       "\n",
       "   negative  neutral  \n",
       "0     0.092    0.680  \n",
       "1     0.147    0.621  \n",
       "2     0.071    0.656  "
      ]
     },
     "execution_count": 33,
     "metadata": {},
     "output_type": "execute_result"
    }
   ],
   "source": [
    "df.head(3)"
   ]
  },
  {
   "cell_type": "code",
   "execution_count": 34,
   "metadata": {},
   "outputs": [],
   "source": [
    "#saving data\n",
    "df.to_csv('../Data/sentiments_geo.csv')"
   ]
  },
  {
   "cell_type": "code",
   "execution_count": 35,
   "metadata": {},
   "outputs": [
    {
     "data": {
      "text/plain": [
       "<AxesSubplot:xlabel='negative'>"
      ]
     },
     "execution_count": 35,
     "metadata": {},
     "output_type": "execute_result"
    },
    {
     "data": {
      "image/png": "[encoded data removed]",
      "text/plain": [
       "<Figure size 1080x504 with 1 Axes>"
      ]
     },
     "metadata": {
      "needs_background": "light"
     },
     "output_type": "display_data"
    }
   ],
   "source": [
    "#distribution of polarity\n",
    "plt.figure(figsize=(15, 7))\n",
    "sns.boxplot(x = df['negative'])"
   ]
  },
  {
   "cell_type": "code",
   "execution_count": 36,
   "metadata": {},
   "outputs": [
    {
     "data": {
      "text/html": [
       "<div>\n",
       "<style scoped>\n",
       "    .dataframe tbody tr th:only-of-type {\n",
       "        vertical-align: middle;\n",
       "    }\n",
       "\n",
       "    .dataframe tbody tr th {\n",
       "        vertical-align: top;\n",
       "    }\n",
       "\n",
       "    .dataframe thead th {\n",
       "        text-align: right;\n",
       "    }\n",
       "</style>\n",
       "<table border=\"1\" class=\"dataframe\">\n",
       "  <thead>\n",
       "    <tr style=\"text-align: right;\">\n",
       "      <th></th>\n",
       "      <th>id</th>\n",
       "      <th>date</th>\n",
       "      <th>content</th>\n",
       "      <th>coordinates</th>\n",
       "      <th>place</th>\n",
       "      <th>user</th>\n",
       "      <th>content_clean</th>\n",
       "      <th>comp</th>\n",
       "      <th>positive</th>\n",
       "      <th>negative</th>\n",
       "      <th>neutral</th>\n",
       "    </tr>\n",
       "  </thead>\n",
       "  <tbody>\n",
       "    <tr>\n",
       "      <th>3</th>\n",
       "      <td>1394326465567543297</td>\n",
       "      <td>2021-05-17 16:18:29+00:00</td>\n",
       "      <td>By @amywestervelt: \"Big Oil Is Trying to Make ...</td>\n",
       "      <td>NaN</td>\n",
       "      <td>NaN</td>\n",
       "      <td>{'username': 'StopMoneyPipe', 'displayname': '...</td>\n",
       "      <td>big oil trying make climate change problem sol...</td>\n",
       "      <td>-0.2263</td>\n",
       "      <td>0.157</td>\n",
       "      <td>0.235</td>\n",
       "      <td>0.609</td>\n",
       "    </tr>\n",
       "    <tr>\n",
       "      <th>5</th>\n",
       "      <td>1394326414116245506</td>\n",
       "      <td>2021-05-17 16:18:17+00:00</td>\n",
       "      <td>“Trying to fight educational inequality by get...</td>\n",
       "      <td>NaN</td>\n",
       "      <td>NaN</td>\n",
       "      <td>{'username': 'ENBrown', 'displayname': 'Elizab...</td>\n",
       "      <td>trying fight educational inequality getting ri...</td>\n",
       "      <td>-0.4019</td>\n",
       "      <td>0.127</td>\n",
       "      <td>0.264</td>\n",
       "      <td>0.609</td>\n",
       "    </tr>\n",
       "    <tr>\n",
       "      <th>6</th>\n",
       "      <td>1394326370692616193</td>\n",
       "      <td>2021-05-17 16:18:06+00:00</td>\n",
       "      <td>Climate change optimism should be dead. Show u...</td>\n",
       "      <td>NaN</td>\n",
       "      <td>NaN</td>\n",
       "      <td>{'username': 'Spencer_Berg_', 'displayname': '...</td>\n",
       "      <td>climate change optimism dead show blow</td>\n",
       "      <td>-0.2023</td>\n",
       "      <td>0.297</td>\n",
       "      <td>0.364</td>\n",
       "      <td>0.339</td>\n",
       "    </tr>\n",
       "    <tr>\n",
       "      <th>10</th>\n",
       "      <td>1394326271518253059</td>\n",
       "      <td>2021-05-17 16:17:43+00:00</td>\n",
       "      <td>Another banger from Freddie deBoer: \"Trying to...</td>\n",
       "      <td>NaN</td>\n",
       "      <td>NaN</td>\n",
       "      <td>{'username': 'savxgr', 'displayname': 'Cameron...</td>\n",
       "      <td>another banger freddie deboer trying fight edu...</td>\n",
       "      <td>-0.4019</td>\n",
       "      <td>0.105</td>\n",
       "      <td>0.219</td>\n",
       "      <td>0.675</td>\n",
       "    </tr>\n",
       "    <tr>\n",
       "      <th>11</th>\n",
       "      <td>1394326159408594948</td>\n",
       "      <td>2021-05-17 16:17:16+00:00</td>\n",
       "      <td>Of all the stupidest wastes of money, #sacrame...</td>\n",
       "      <td>NaN</td>\n",
       "      <td>NaN</td>\n",
       "      <td>{'username': 'Soldier4_Truth', 'displayname': ...</td>\n",
       "      <td>stupidest wastes money takes cake fools know i...</td>\n",
       "      <td>-0.7650</td>\n",
       "      <td>0.000</td>\n",
       "      <td>0.398</td>\n",
       "      <td>0.602</td>\n",
       "    </tr>\n",
       "    <tr>\n",
       "      <th>...</th>\n",
       "      <td>...</td>\n",
       "      <td>...</td>\n",
       "      <td>...</td>\n",
       "      <td>...</td>\n",
       "      <td>...</td>\n",
       "      <td>...</td>\n",
       "      <td>...</td>\n",
       "      <td>...</td>\n",
       "      <td>...</td>\n",
       "      <td>...</td>\n",
       "      <td>...</td>\n",
       "    </tr>\n",
       "    <tr>\n",
       "      <th>108282</th>\n",
       "      <td>1388281023822106625</td>\n",
       "      <td>2021-04-30 23:56:03+00:00</td>\n",
       "      <td>Looks like John Kerry doesn't believe what he ...</td>\n",
       "      <td>NaN</td>\n",
       "      <td>NaN</td>\n",
       "      <td>{'username': 'conserv_tribune', 'displayname':...</td>\n",
       "      <td>looks like john kerry believe says maybe inste...</td>\n",
       "      <td>-0.3182</td>\n",
       "      <td>0.145</td>\n",
       "      <td>0.220</td>\n",
       "      <td>0.636</td>\n",
       "    </tr>\n",
       "    <tr>\n",
       "      <th>108284</th>\n",
       "      <td>1388280994864803842</td>\n",
       "      <td>2021-04-30 23:55:56+00:00</td>\n",
       "      <td>*WE DON'T HAVE A GENERATION TO AVERT THE #Clim...</td>\n",
       "      <td>NaN</td>\n",
       "      <td>NaN</td>\n",
       "      <td>{'username': 'Bliadhnaichean', 'displayname': ...</td>\n",
       "      <td>generation avert</td>\n",
       "      <td>-0.1779</td>\n",
       "      <td>0.000</td>\n",
       "      <td>0.630</td>\n",
       "      <td>0.370</td>\n",
       "    </tr>\n",
       "    <tr>\n",
       "      <th>108285</th>\n",
       "      <td>1388280913507897345</td>\n",
       "      <td>2021-04-30 23:55:37+00:00</td>\n",
       "      <td>'Amtrak Joe': Biden pushes for $80B injection ...</td>\n",
       "      <td>NaN</td>\n",
       "      <td>NaN</td>\n",
       "      <td>{'username': 'MelanieAlex62', 'displayname': '...</td>\n",
       "      <td>amtrak joe biden pushes injection rail service...</td>\n",
       "      <td>-0.3818</td>\n",
       "      <td>0.000</td>\n",
       "      <td>0.224</td>\n",
       "      <td>0.776</td>\n",
       "    </tr>\n",
       "    <tr>\n",
       "      <th>108286</th>\n",
       "      <td>1388280664106147840</td>\n",
       "      <td>2021-04-30 23:54:37+00:00</td>\n",
       "      <td>Climate change: Amazon may be turning from fri...</td>\n",
       "      <td>NaN</td>\n",
       "      <td>NaN</td>\n",
       "      <td>{'username': 'k_proberts', 'displayname': 'KPR...</td>\n",
       "      <td>climate change amazon may turning friend foe via</td>\n",
       "      <td>0.2500</td>\n",
       "      <td>0.383</td>\n",
       "      <td>0.227</td>\n",
       "      <td>0.391</td>\n",
       "    </tr>\n",
       "    <tr>\n",
       "      <th>108288</th>\n",
       "      <td>1388280562608074752</td>\n",
       "      <td>2021-04-30 23:54:13+00:00</td>\n",
       "      <td>Are ya sick of racism, rich people not paying ...</td>\n",
       "      <td>NaN</td>\n",
       "      <td>NaN</td>\n",
       "      <td>{'username': 'lobosgatos', 'displayname': 'The...</td>\n",
       "      <td>ya sick racism rich people paying taxes climat...</td>\n",
       "      <td>-0.7579</td>\n",
       "      <td>0.251</td>\n",
       "      <td>0.491</td>\n",
       "      <td>0.258</td>\n",
       "    </tr>\n",
       "  </tbody>\n",
       "</table>\n",
       "<p>29278 rows × 11 columns</p>\n",
       "</div>"
      ],
      "text/plain": [
       "                         id                       date  \\\n",
       "3       1394326465567543297  2021-05-17 16:18:29+00:00   \n",
       "5       1394326414116245506  2021-05-17 16:18:17+00:00   \n",
       "6       1394326370692616193  2021-05-17 16:18:06+00:00   \n",
       "10      1394326271518253059  2021-05-17 16:17:43+00:00   \n",
       "11      1394326159408594948  2021-05-17 16:17:16+00:00   \n",
       "...                     ...                        ...   \n",
       "108282  1388281023822106625  2021-04-30 23:56:03+00:00   \n",
       "108284  1388280994864803842  2021-04-30 23:55:56+00:00   \n",
       "108285  1388280913507897345  2021-04-30 23:55:37+00:00   \n",
       "108286  1388280664106147840  2021-04-30 23:54:37+00:00   \n",
       "108288  1388280562608074752  2021-04-30 23:54:13+00:00   \n",
       "\n",
       "                                                  content coordinates place  \\\n",
       "3       By @amywestervelt: \"Big Oil Is Trying to Make ...         NaN   NaN   \n",
       "5       “Trying to fight educational inequality by get...         NaN   NaN   \n",
       "6       Climate change optimism should be dead. Show u...         NaN   NaN   \n",
       "10      Another banger from Freddie deBoer: \"Trying to...         NaN   NaN   \n",
       "11      Of all the stupidest wastes of money, #sacrame...         NaN   NaN   \n",
       "...                                                   ...         ...   ...   \n",
       "108282  Looks like John Kerry doesn't believe what he ...         NaN   NaN   \n",
       "108284  *WE DON'T HAVE A GENERATION TO AVERT THE #Clim...         NaN   NaN   \n",
       "108285  'Amtrak Joe': Biden pushes for $80B injection ...         NaN   NaN   \n",
       "108286  Climate change: Amazon may be turning from fri...         NaN   NaN   \n",
       "108288  Are ya sick of racism, rich people not paying ...         NaN   NaN   \n",
       "\n",
       "                                                     user  \\\n",
       "3       {'username': 'StopMoneyPipe', 'displayname': '...   \n",
       "5       {'username': 'ENBrown', 'displayname': 'Elizab...   \n",
       "6       {'username': 'Spencer_Berg_', 'displayname': '...   \n",
       "10      {'username': 'savxgr', 'displayname': 'Cameron...   \n",
       "11      {'username': 'Soldier4_Truth', 'displayname': ...   \n",
       "...                                                   ...   \n",
       "108282  {'username': 'conserv_tribune', 'displayname':...   \n",
       "108284  {'username': 'Bliadhnaichean', 'displayname': ...   \n",
       "108285  {'username': 'MelanieAlex62', 'displayname': '...   \n",
       "108286  {'username': 'k_proberts', 'displayname': 'KPR...   \n",
       "108288  {'username': 'lobosgatos', 'displayname': 'The...   \n",
       "\n",
       "                                            content_clean    comp  positive  \\\n",
       "3       big oil trying make climate change problem sol... -0.2263     0.157   \n",
       "5       trying fight educational inequality getting ri... -0.4019     0.127   \n",
       "6                  climate change optimism dead show blow -0.2023     0.297   \n",
       "10      another banger freddie deboer trying fight edu... -0.4019     0.105   \n",
       "11      stupidest wastes money takes cake fools know i... -0.7650     0.000   \n",
       "...                                                   ...     ...       ...   \n",
       "108282  looks like john kerry believe says maybe inste... -0.3182     0.145   \n",
       "108284                                   generation avert -0.1779     0.000   \n",
       "108285  amtrak joe biden pushes injection rail service... -0.3818     0.000   \n",
       "108286   climate change amazon may turning friend foe via  0.2500     0.383   \n",
       "108288  ya sick racism rich people paying taxes climat... -0.7579     0.251   \n",
       "\n",
       "        negative  neutral  \n",
       "3          0.235    0.609  \n",
       "5          0.264    0.609  \n",
       "6          0.364    0.339  \n",
       "10         0.219    0.675  \n",
       "11         0.398    0.602  \n",
       "...          ...      ...  \n",
       "108282     0.220    0.636  \n",
       "108284     0.630    0.370  \n",
       "108285     0.224    0.776  \n",
       "108286     0.227    0.391  \n",
       "108288     0.491    0.258  \n",
       "\n",
       "[29278 rows x 11 columns]"
      ]
     },
     "execution_count": 36,
     "metadata": {},
     "output_type": "execute_result"
    }
   ],
   "source": [
    "df[df['negative'] > 0.2]"
   ]
  },
  {
   "cell_type": "code",
   "execution_count": null,
   "metadata": {},
   "outputs": [],
   "source": [
    "#getting positve hashtags\n",
    "HT_positive = []\n",
    "\n",
    "def hashtag_extract(x):\n",
    "    hashtags = []\n",
    "    # Loop over the words in the tweet\n",
    "    for i in x:\n",
    "        ht = re.findall(r\"#(\\w+)\", i)\n",
    "        hashtags.append(ht)\n",
    "    return hashtags\n",
    "# extracting hashtags from positive tweetsHT_positive = hashtag_extract(df_tws['text'][df_tws['sent'] == 1])\n",
    "# extracting hashtags from  tweets\n",
    "HT_positive = hashtag_extract(df['content'][df['comp'] > 0.5])\n",
    "# unnesting list\n",
    "HT_positive = sum(HT_positive,[])\n",
    "HT_positive"
   ]
  }
 ],
 "metadata": {
  "kernelspec": {
   "display_name": "Python 3",
   "language": "python",
   "name": "python3"
  },
  "language_info": {
   "codemirror_mode": {
    "name": "ipython",
    "version": 3
   },
   "file_extension": ".py",
   "mimetype": "text/x-python",
   "name": "python",
   "nbconvert_exporter": "python",
   "pygments_lexer": "ipython3",
   "version": "3.8.5"
  }
 },
 "nbformat": 4,
 "nbformat_minor": 4
}
